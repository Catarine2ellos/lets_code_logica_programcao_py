{
  "nbformat": 4,
  "nbformat_minor": 0,
  "metadata": {
    "colab": {
      "provenance": [],
      "include_colab_link": true
    },
    "kernelspec": {
      "name": "python3",
      "display_name": "Python 3"
    },
    "language_info": {
      "name": "python"
    }
  },
  "cells": [
    {
      "cell_type": "markdown",
      "metadata": {
        "id": "view-in-github",
        "colab_type": "text"
      },
      "source": [
        "<a href=\"https://colab.research.google.com/github/Catarine2ellos/lets_code_logica_programcao_py/blob/main/aula_4.ipynb\" target=\"_parent\"><img src=\"https://colab.research.google.com/assets/colab-badge.svg\" alt=\"Open In Colab\"/></a>"
      ]
    },
    {
      "cell_type": "markdown",
      "source": [
        "# Aula 4"
      ],
      "metadata": {
        "id": "eBRdYO4PeBjW"
      }
    },
    {
      "cell_type": "markdown",
      "source": [
        "## Laços de repetição (FOR)\n",
        "![info](https://drive.google.com/uc?export=view&id=1LzoVL5aaY8vRdltguyO49fWG-jg_IoEy)\n",
        "\n"
      ],
      "metadata": {
        "id": "I__YSyHfeD7j"
      }
    },
    {
      "cell_type": "markdown",
      "source": [
        "### RANGE\n",
        "\n",
        "```python\n",
        "range(start, stop, step)\n",
        "```\n",
        "\n",
        "\n",
        "- **start**: Opcional. Número inteiro que indica início da sequência. Padrão é 0\n",
        "- **stop**:\tObrigatório. Número inteiro que indica fim da sequência. (não incluso).\n",
        "- **step**:\tOpcional. Número inteiro que indica incremento da sequência. Padrão é 1"
      ],
      "metadata": {
        "id": "0bg6Hqp9LSZQ"
      }
    },
    {
      "cell_type": "code",
      "source": [
        "#estabelece sequencias numericas\n",
        "for i in range (2, 11, 2):\n",
        "  print(i)"
      ],
      "metadata": {
        "id": "MnZ9i5RqLbxM",
        "colab": {
          "base_uri": "https://localhost:8080/"
        },
        "outputId": "bf218ed9-af90-477f-c7eb-dadffa484182"
      },
      "execution_count": null,
      "outputs": [
        {
          "output_type": "stream",
          "name": "stdout",
          "text": [
            "2\n",
            "4\n",
            "6\n",
            "8\n",
            "10\n"
          ]
        }
      ]
    },
    {
      "cell_type": "code",
      "source": [
        "n = 'ada'\n",
        "\n",
        "for i in n:\n",
        "  print(i)"
      ],
      "metadata": {
        "id": "Jbi2qR9QGEnU",
        "outputId": "a5ddd148-fa30-4352-cf00-5d1451b4b273",
        "colab": {
          "base_uri": "https://localhost:8080/"
        }
      },
      "execution_count": null,
      "outputs": [
        {
          "output_type": "stream",
          "name": "stdout",
          "text": [
            "a\n",
            "d\n",
            "a\n"
          ]
        }
      ]
    },
    {
      "cell_type": "code",
      "source": [
        "palavra = 'davi'\n",
        "palavra2 = 'costa'\n",
        "\n",
        "for letra in palavra:\n",
        "  for letra2 in palavra2:\n",
        "    print(letra, letra2)"
      ],
      "metadata": {
        "colab": {
          "base_uri": "https://localhost:8080/"
        },
        "id": "ZWtqcDy5IZG6",
        "outputId": "b7647328-d467-45e9-9814-c007e3999aa8"
      },
      "execution_count": null,
      "outputs": [
        {
          "output_type": "stream",
          "name": "stdout",
          "text": [
            "d c\n",
            "d o\n",
            "d s\n",
            "d t\n",
            "d a\n",
            "a c\n",
            "a o\n",
            "a s\n",
            "a t\n",
            "a a\n",
            "v c\n",
            "v o\n",
            "v s\n",
            "v t\n",
            "v a\n",
            "i c\n",
            "i o\n",
            "i s\n",
            "i t\n",
            "i a\n"
          ]
        }
      ]
    },
    {
      "cell_type": "markdown",
      "source": [
        "##  Comandos de manipulação de fluxo (BREAK/CONTINUE)"
      ],
      "metadata": {
        "id": "TZA_pGAzeHwN"
      }
    },
    {
      "cell_type": "code",
      "source": [
        "for i in range(10):\n",
        "  if i==5:\n",
        "      break\n",
        "  print(i)"
      ],
      "metadata": {
        "id": "R5KGCvQ4052F",
        "colab": {
          "base_uri": "https://localhost:8080/"
        },
        "outputId": "1974814c-6715-4cf6-d367-6b116e55df74"
      },
      "execution_count": null,
      "outputs": [
        {
          "output_type": "stream",
          "name": "stdout",
          "text": [
            "0\n",
            "1\n",
            "2\n",
            "3\n",
            "4\n"
          ]
        }
      ]
    },
    {
      "cell_type": "code",
      "source": [
        "for i in range(10):\n",
        "  if i>5:\n",
        "    continue\n",
        "    if i==5:\n",
        "      break\n",
        "  print(i)"
      ],
      "metadata": {
        "colab": {
          "base_uri": "https://localhost:8080/"
        },
        "id": "mJoFR9i9Qg5d",
        "outputId": "e43e6589-a207-4657-95eb-77e02840713a"
      },
      "execution_count": null,
      "outputs": [
        {
          "output_type": "stream",
          "name": "stdout",
          "text": [
            "0\n",
            "1\n",
            "2\n",
            "3\n",
            "4\n",
            "5\n"
          ]
        }
      ]
    },
    {
      "cell_type": "markdown",
      "source": [
        "Tabuada de multiplicação de um número inteiro de forma que seja impressa assim:"
      ],
      "metadata": {
        "id": "BsDGSvEJSEZO"
      }
    },
    {
      "cell_type": "code",
      "source": [
        "num = int(input('informe um número '))\n",
        "for i in range(1, 11):\n",
        "  print(f'{num}x{i} = {num*i}')"
      ],
      "metadata": {
        "colab": {
          "base_uri": "https://localhost:8080/"
        },
        "id": "Hpb7TBoLQxx9",
        "outputId": "ca42aacb-ee0c-4dfc-f6c4-67e94fb89a38"
      },
      "execution_count": null,
      "outputs": [
        {
          "output_type": "stream",
          "name": "stdout",
          "text": [
            "informe um número 2\n",
            "2x1 = 2\n",
            "2x2 = 4\n",
            "2x3 = 6\n",
            "2x4 = 8\n",
            "2x5 = 10\n",
            "2x6 = 12\n",
            "2x7 = 14\n",
            "2x8 = 16\n",
            "2x9 = 18\n",
            "2x10 = 20\n"
          ]
        }
      ]
    },
    {
      "cell_type": "markdown",
      "source": [
        "Programa que receba uma palavra e\n",
        "imprima a quantidade de vogais e consoantes"
      ],
      "metadata": {
        "id": "mRKicdrOT3Vg"
      }
    },
    {
      "cell_type": "code",
      "source": [
        "palavra = input('Informe uma palavra: ')\n",
        "\n",
        "vogal = 0\n",
        "consoante = 0\n",
        "\n",
        "for i in palavra:\n",
        "  if i in 'aeiouAEIOU':\n",
        "    vogal+=1\n",
        "  else:\n",
        "    consoante+=1\n",
        "    \n",
        "print(f'A palavra informada tem {vogal} vogais e {consoante} consoantes')\n",
        "\n",
        "    "
      ],
      "metadata": {
        "colab": {
          "base_uri": "https://localhost:8080/"
        },
        "id": "n7Vaqz18RO_a",
        "outputId": "cd85225f-b2f5-4e02-e794-69a3490ffe9f"
      },
      "execution_count": null,
      "outputs": [
        {
          "output_type": "stream",
          "name": "stdout",
          "text": [
            "Informe uma palavra: fala\n",
            "A palavra informada tem 2 vogais e 2 consoantes\n"
          ]
        }
      ]
    },
    {
      "cell_type": "code",
      "source": [],
      "metadata": {
        "id": "0iXbLzdXUPLE"
      },
      "execution_count": null,
      "outputs": []
    }
  ]
}